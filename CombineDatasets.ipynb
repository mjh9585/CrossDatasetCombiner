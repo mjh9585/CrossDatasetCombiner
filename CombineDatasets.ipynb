{
 "cells": [
  {
   "cell_type": "markdown",
   "metadata": {},
   "source": [
    "## Dataset Combination\n",
    "---------------\n",
    "This notebook provides the framework for combining the common features of multiple datasets "
   ]
  },
  {
   "cell_type": "code",
   "execution_count": 1,
   "metadata": {},
   "outputs": [],
   "source": [
    "#imports\n",
    "from DatasetTools import loadDataset,Datasets,findCommonFeatures,combineDatasets\n",
    "from Loader.CombinedDataset import CombinationMethod\n",
    "import pandas as pd"
   ]
  },
  {
   "cell_type": "markdown",
   "metadata": {},
   "source": [
    "### Global variables"
   ]
  },
  {
   "cell_type": "code",
   "execution_count": 2,
   "metadata": {},
   "outputs": [],
   "source": [
    "calcFeatures = True\n",
    "outputPath = \"../datasets/Combined/sample.csv\""
   ]
  },
  {
   "cell_type": "markdown",
   "metadata": {},
   "source": [
    "### Loading datasets\n",
    "To load a dataset, simply call the *loadDataset* method from DatasetTools and specify which dataset is being loaded along with the path the the file. You can also provide a name for the dataset as a note on the combined."
   ]
  },
  {
   "cell_type": "code",
   "execution_count": 3,
   "metadata": {},
   "outputs": [
    {
     "name": "stdout",
     "output_type": "stream",
     "text": [
      "loading Datasets.USBIDS_2021 from \"../datasets/USBIDS21/Slowhttptest-NoDefense.csv\" with dataset name: USB-IDS Slowhttptest\n",
      "loading Datasets.USBIDS_2021 from \"../datasets/USBIDS21/REGULAR.csv\" with dataset name: USB-IDS Regular\n",
      "loading Datasets.UNSW_NB15_2015 from \"../datasets/UNSW-NB15/UNSW-NB15_1.csv\" with dataset name: UNSW-NB15_1\n",
      "loading Datasets.UNSW_NB15_2015 from \"../datasets/UNSW-NB15/UNSW-NB15_2.csv\" with dataset name: UNSW-NB15_2\n"
     ]
    }
   ],
   "source": [
    "\n",
    "usb1 = loadDataset(Datasets.USBIDS_2021,'../datasets/USBIDS21/Slowhttptest-NoDefense.csv',\"USB-IDS Slowhttptest\",calcFeatures=calcFeatures)\n",
    "usb2 = loadDataset(Datasets.USBIDS_2021,'../datasets/USBIDS21/REGULAR.csv',\"USB-IDS Regular\",calcFeatures=calcFeatures)\n",
    "\n",
    "UNSW1 = loadDataset(Datasets.UNSW_NB15_2015,\"../datasets/UNSW-NB15/UNSW-NB15_1.csv\",\"UNSW-NB15_1\",calcFeatures=calcFeatures)\n",
    "UNSW2 = loadDataset(Datasets.UNSW_NB15_2015,\"../datasets/UNSW-NB15/UNSW-NB15_2.csv\",\"UNSW-NB15_2\",calcFeatures=calcFeatures)"
   ]
  },
  {
   "cell_type": "markdown",
   "metadata": {},
   "source": [
    "### Combining datasets\n",
    "There are two methods of combining datasets, sequentially and interlaced.\n",
    "- Sequentially: datasets are concatenated together in the order they are passed in.\n",
    "- Interlaced: datasets are mixed together based on the relative timestamp in each dataset."
   ]
  },
  {
   "cell_type": "code",
   "execution_count": 4,
   "metadata": {},
   "outputs": [],
   "source": [
    "comb = combineDatasets(usb1, usb2, UNSW1, UNSW2, method = CombinationMethod.SEQUENTIAL)\n"
   ]
  },
  {
   "cell_type": "code",
   "execution_count": 5,
   "metadata": {},
   "outputs": [],
   "source": [
    "combUSB = combineDatasets(usb1, usb2, method = CombinationMethod.SEQUENTIAL)\n",
    "combUNSW = combineDatasets(UNSW1, UNSW2, method = CombinationMethod.SEQUENTIAL)\n",
    "comb = combineDatasets(combUNSW, combUSB, method = CombinationMethod.SEQUENTIAL)"
   ]
  },
  {
   "cell_type": "code",
   "execution_count": 6,
   "metadata": {},
   "outputs": [
    {
     "ename": "AttributeError",
     "evalue": "'CombinedDataset' object has no attribute 'name'",
     "output_type": "error",
     "traceback": [
      "\u001b[0;31m---------------------------------------------------------------------------\u001b[0m",
      "\u001b[0;31mAttributeError\u001b[0m                            Traceback (most recent call last)",
      "\u001b[1;32m/home/matthew/2022SummerResearch/DatasetProcessor/CombineDatasets.ipynb Cell 10\u001b[0m in \u001b[0;36m<cell line: 1>\u001b[0;34m()\u001b[0m\n\u001b[0;32m----> <a href='vscode-notebook-cell://wsl%2Bubuntu-20.04/home/matthew/2022SummerResearch/DatasetProcessor/CombineDatasets.ipynb#ch0000009vscode-remote?line=0'>1</a>\u001b[0m temp \u001b[39m=\u001b[39m \u001b[39mnext\u001b[39;49m(comb)\n",
      "File \u001b[0;32m~/2022SummerResearch/DatasetProcessor/Loader/CombinedDataset.py:125\u001b[0m, in \u001b[0;36mCombinedDataset.__next__\u001b[0;34m(self)\u001b[0m\n\u001b[1;32m    123\u001b[0m \u001b[39mif\u001b[39;00m(\u001b[39mself\u001b[39m\u001b[39m.\u001b[39mcurrentDataset \u001b[39m>\u001b[39m\u001b[39m=\u001b[39m \u001b[39mlen\u001b[39m(\u001b[39mself\u001b[39m\u001b[39m.\u001b[39mdatasets)):\n\u001b[1;32m    124\u001b[0m     \u001b[39mraise\u001b[39;00m \u001b[39mStopIteration\u001b[39;00m\n\u001b[0;32m--> 125\u001b[0m df \u001b[39m=\u001b[39m \u001b[39mself\u001b[39;49m\u001b[39m.\u001b[39;49mcombineSequential2()\n\u001b[1;32m    126\u001b[0m df \u001b[39m=\u001b[39m \u001b[39mself\u001b[39m\u001b[39m.\u001b[39mrunAdditionalPreprocess(df)\n\u001b[1;32m    127\u001b[0m \u001b[39mreturn\u001b[39;00m df\n",
      "File \u001b[0;32m~/2022SummerResearch/DatasetProcessor/Loader/CombinedDataset.py:36\u001b[0m, in \u001b[0;36mCombinedDataset.combineSequential2\u001b[0;34m(self)\u001b[0m\n\u001b[1;32m     35\u001b[0m \u001b[39mdef\u001b[39;00m \u001b[39mcombineSequential2\u001b[39m(\u001b[39mself\u001b[39m):\n\u001b[0;32m---> 36\u001b[0m     \u001b[39mprint\u001b[39m(\u001b[39mf\u001b[39m\u001b[39m'\u001b[39m\u001b[39mCombining \u001b[39m\u001b[39m{\u001b[39;00m\u001b[39mself\u001b[39m\u001b[39m.\u001b[39mdatasets[\u001b[39mself\u001b[39m\u001b[39m.\u001b[39mcurrentDataset]\u001b[39m.\u001b[39mname\u001b[39m}\u001b[39;00m\u001b[39m'\u001b[39m)\n\u001b[1;32m     37\u001b[0m     frames \u001b[39m=\u001b[39m []\n\u001b[1;32m     38\u001b[0m     count \u001b[39m=\u001b[39m \u001b[39m0\u001b[39m\n",
      "\u001b[0;31mAttributeError\u001b[0m: 'CombinedDataset' object has no attribute 'name'"
     ]
    }
   ],
   "source": [
    "temp = next(comb)"
   ]
  }
 ],
 "metadata": {
  "kernelspec": {
   "display_name": "Python 3.8.10 ('venv': venv)",
   "language": "python",
   "name": "python3"
  },
  "language_info": {
   "codemirror_mode": {
    "name": "ipython",
    "version": 3
   },
   "file_extension": ".py",
   "mimetype": "text/x-python",
   "name": "python",
   "nbconvert_exporter": "python",
   "pygments_lexer": "ipython3",
   "version": "3.8.10"
  },
  "orig_nbformat": 4,
  "vscode": {
   "interpreter": {
    "hash": "f762d64980dfdcad5a1c3bae0f4ed5c8a9be685d2905460a50a42f21ac9f31ea"
   }
  }
 },
 "nbformat": 4,
 "nbformat_minor": 2
}
