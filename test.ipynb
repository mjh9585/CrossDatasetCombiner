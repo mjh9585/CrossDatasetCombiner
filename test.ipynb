{
 "cells": [
  {
   "cell_type": "code",
   "execution_count": 10,
   "metadata": {},
   "outputs": [
    {
     "name": "stdout",
     "output_type": "stream",
     "text": [
      "loading Datasets.USBIDS_2021 from \"../datasets/USBIDS21/Slowhttptest-NoDefense.csv\" with dataset name: USB-IDS Slowhttptest\n",
      "loading Datasets.USBIDS_2021 from \"../datasets/USBIDS21/REGULAR.csv\" with dataset name: USB-IDS Regular\n",
      "loading Datasets.UNSW_NB15_2015 from \"../datasets/UNSW-NB15/UNSW-NB15_1.csv\" with dataset name: UNSW-NB15_1\n",
      "loading Datasets.UNSW_NB15_2015 from \"../datasets/UNSW-NB15/UNSW-NB15_2.csv\" with dataset name: UNSW-NB15_2\n"
     ]
    }
   ],
   "source": [
    "from DatasetTools import loadDataset,Datasets,findCommonFeatures,combineDatasets\n",
    "from Loader.CombinedDataset import CombinationMethod\n",
    "import pandas as pd\n",
    "import numpy as np\n",
    "import os\n",
    "import time\n",
    "cwd = os.getcwd()\n",
    "\n",
    "calcFeatures = True\n",
    "usb1 = loadDataset(Datasets.USBIDS_2021,'../datasets/USBIDS21/Slowhttptest-NoDefense.csv',\"USB-IDS Slowhttptest\",calcFeatures=calcFeatures)\n",
    "usb2 = loadDataset(Datasets.USBIDS_2021,'../datasets/USBIDS21/REGULAR.csv',\"USB-IDS Regular\",calcFeatures=calcFeatures)\n",
    "\n",
    "UNSW1 = loadDataset(Datasets.UNSW_NB15_2015,\"../datasets/UNSW-NB15/UNSW-NB15_1.csv\",\"UNSW-NB15_1\",calcFeatures=calcFeatures)\n",
    "UNSW2 = loadDataset(Datasets.UNSW_NB15_2015,\"../datasets/UNSW-NB15/UNSW-NB15_2.csv\",\"UNSW-NB15_2\",calcFeatures=calcFeatures)"
   ]
  },
  {
   "cell_type": "code",
   "execution_count": 9,
   "metadata": {},
   "outputs": [
    {
     "name": "stdout",
     "output_type": "stream",
     "text": [
      "USB1\n",
      "TIME::TotalProc=-301.5463352203369ms\n",
      "USB2\n",
      "TIME::TotalProc=-5130.762100219727ms\n",
      "UNSW1\n"
     ]
    },
    {
     "name": "stderr",
     "output_type": "stream",
     "text": [
      "/home/matthew/2022SummerResearch/DatasetProcessor/Loader/Dataset.py:145: DtypeWarning: Columns (1,3) have mixed types. Specify dtype option on import or set low_memory=False.\n",
      "  df = next(self.reader)\n"
     ]
    },
    {
     "name": "stdout",
     "output_type": "stream",
     "text": [
      "TIME::TotalProc=-1020.4427242279053ms\n",
      "UNSW2\n",
      "TIME::TotalProc=-974.1029739379883ms\n"
     ]
    }
   ],
   "source": [
    "print(\"USB1\")\n",
    "timeinit = time.time()\n",
    "tmp1 = next(usb1)\n",
    "print(f'TIME::TotalProc={(timeinit-time.time())*1000.0}ms') #! timing test\n",
    "\n",
    "print(\"USB2\")\n",
    "timeinit = time.time()\n",
    "tmp2 = next(usb2)\n",
    "print(f'TIME::TotalProc={(timeinit-time.time())*1000.0}ms') #! timing test\n",
    "\n",
    "print(\"UNSW1\")\n",
    "timeinit = time.time()\n",
    "tmp3 = next(UNSW1)\n",
    "print(f'TIME::TotalProc={(timeinit-time.time())*1000.0}ms') #! timing test\n",
    "\n",
    "print(\"UNSW2\")\n",
    "timeinit = time.time()\n",
    "tmp4 = next(UNSW2)\n",
    "print(f'TIME::TotalProc={(timeinit-time.time())*1000.0}ms') #! timing test"
   ]
  },
  {
   "cell_type": "code",
   "execution_count": null,
   "metadata": {},
   "outputs": [],
   "source": [
    "print(tmp1.Protocol.unique())\n",
    "print(tmp2.Protocol.unique())\n",
    "print(tmp3.Protocol.unique())\n",
    "print(tmp4.Protocol.unique())"
   ]
  },
  {
   "cell_type": "code",
   "execution_count": null,
   "metadata": {},
   "outputs": [],
   "source": [
    "import itertools\n",
    "\n",
    "proto = set()\n",
    "for t in itertools.chain(UNSW1,UNSW2):\n",
    "    for p in t.Protocol.unique():\n",
    "        proto.add(p)\n",
    "print(proto)"
   ]
  },
  {
   "cell_type": "code",
   "execution_count": 1,
   "metadata": {},
   "outputs": [
    {
     "ename": "NameError",
     "evalue": "name 'findCommonFeatures' is not defined",
     "output_type": "error",
     "traceback": [
      "\u001b[0;31m---------------------------------------------------------------------------\u001b[0m",
      "\u001b[0;31mNameError\u001b[0m                                 Traceback (most recent call last)",
      "\u001b[1;32m/home/matthew/2022SummerResearch/DatasetProcessor/test.ipynb Cell 5\u001b[0m in \u001b[0;36m<cell line: 1>\u001b[0;34m()\u001b[0m\n\u001b[0;32m----> <a href='vscode-notebook-cell://wsl%2Bubuntu-20.04/home/matthew/2022SummerResearch/DatasetProcessor/test.ipynb#W4sdnNjb2RlLXJlbW90ZQ%3D%3D?line=0'>1</a>\u001b[0m items \u001b[39m=\u001b[39m findCommonFeatures(usb1,usb2,UNSW1,UNSW2)\n\u001b[1;32m      <a href='vscode-notebook-cell://wsl%2Bubuntu-20.04/home/matthew/2022SummerResearch/DatasetProcessor/test.ipynb#W4sdnNjb2RlLXJlbW90ZQ%3D%3D?line=1'>2</a>\u001b[0m usbItems \u001b[39m=\u001b[39m usb1\u001b[39m.\u001b[39mgetFeatures()\n\u001b[1;32m      <a href='vscode-notebook-cell://wsl%2Bubuntu-20.04/home/matthew/2022SummerResearch/DatasetProcessor/test.ipynb#W4sdnNjb2RlLXJlbW90ZQ%3D%3D?line=2'>3</a>\u001b[0m unswItems \u001b[39m=\u001b[39m UNSW1\u001b[39m.\u001b[39mgetFeatures()\n",
      "\u001b[0;31mNameError\u001b[0m: name 'findCommonFeatures' is not defined"
     ]
    }
   ],
   "source": [
    "items = findCommonFeatures(usb1,usb2,UNSW1,UNSW2)\n",
    "usbItems = usb1.getFeatures()\n",
    "unswItems = UNSW1.getFeatures()\n",
    "missingUSB = [v for v in usbItems if v not in items]\n",
    "missingUNSW = [v for v in unswItems if v not in items]\n",
    "\n",
    "print(f\"Combined has {len(items)} features\")\n",
    "print(f\"USBIDS has {len(usbItems)} features, {len(missingUSB)} are missing\")\n",
    "print(f\"UNSWNB15 has {len(unswItems)} features, {len(missingUNSW)} are missing\")\n"
   ]
  },
  {
   "cell_type": "code",
   "execution_count": 11,
   "metadata": {},
   "outputs": [],
   "source": [
    "comb = combineDatasets(usb1, usb2, UNSW1,UNSW2, method = CombinationMethod.INTERLACE)\n",
    "count = 0"
   ]
  },
  {
   "cell_type": "code",
   "execution_count": 12,
   "metadata": {},
   "outputs": [],
   "source": [
    "comb.chunksize = 10 ** 6"
   ]
  },
  {
   "cell_type": "code",
   "execution_count": 13,
   "metadata": {},
   "outputs": [
    {
     "name": "stderr",
     "output_type": "stream",
     "text": [
      "/home/matthew/2022SummerResearch/DatasetProcessor/Loader/Dataset.py:146: DtypeWarning: Columns (1,3,47) have mixed types. Specify dtype option on import or set low_memory=False.\n",
      "  df = self.reader.get_chunk(rows)\n"
     ]
    },
    {
     "data": {
      "text/plain": [
       "242187.5"
      ]
     },
     "execution_count": 13,
     "metadata": {},
     "output_type": "execute_result"
    }
   ],
   "source": [
    "#first boundary\n",
    "temp = next(comb)\n",
    "count=1\n",
    "temp.memory_usage().sum()/1024"
   ]
  },
  {
   "cell_type": "code",
   "execution_count": 5,
   "metadata": {},
   "outputs": [
    {
     "name": "stdout",
     "output_type": "stream",
     "text": [
      "Combining USB-IDS Regular\n",
      "Combining USB-IDS Regular\n",
      "Reached end of USB-IDS Regular with 12658 flows, switching to UNSW-NB15_1\n"
     ]
    },
    {
     "name": "stderr",
     "output_type": "stream",
     "text": [
      "/home/matthew/2022SummerResearch/DatasetProcessor/Loader/Dataset.py:136: DtypeWarning: Columns (1) have mixed types. Specify dtype option on import or set low_memory=False.\n",
      "  df = self.reader.get_chunk(rows)\n"
     ]
    },
    {
     "name": "stdout",
     "output_type": "stream",
     "text": [
      "Combining UNSW-NB15_1\n"
     ]
    },
    {
     "name": "stderr",
     "output_type": "stream",
     "text": [
      "/home/matthew/2022SummerResearch/DatasetProcessor/Loader/Dataset.py:136: DtypeWarning: Columns (1,3) have mixed types. Specify dtype option on import or set low_memory=False.\n",
      "  df = self.reader.get_chunk(rows)\n"
     ]
    }
   ],
   "source": [
    "#second boundary\n",
    "for i in range(3):\n",
    "    temp = next(comb)\n",
    "    count+=1"
   ]
  },
  {
   "cell_type": "code",
   "execution_count": null,
   "metadata": {},
   "outputs": [],
   "source": [
    "np.all(temp[\"Dataset\"] == \"USB-IDS Regular\")"
   ]
  },
  {
   "cell_type": "code",
   "execution_count": null,
   "metadata": {},
   "outputs": [],
   "source": [
    "print(items)"
   ]
  },
  {
   "cell_type": "code",
   "execution_count": null,
   "metadata": {},
   "outputs": [],
   "source": [
    "#! OLD\n",
    "comb1 = combineDatasets(usb1, usb2, method = CombinationMethod.SEQUENTIAL)\n",
    "items.append(\"Dataset\")\n",
    "df = next(comb1)[items]\n",
    "for d in comb1:\n",
    "    df = pd.concat([df,d[items]])\n",
    "\n",
    "print(f'{len(df)} features')\n",
    "stats1 = df.describe()\n",
    "sample1 = df.sample(n=5)"
   ]
  },
  {
   "cell_type": "code",
   "execution_count": null,
   "metadata": {},
   "outputs": [],
   "source": [
    "stime = comb1.datasetTimes[-1][1]"
   ]
  },
  {
   "cell_type": "code",
   "execution_count": null,
   "metadata": {},
   "outputs": [],
   "source": [
    "#! OLD\n",
    "comb2 = combineDatasets(UNSW1, UNSW2, method = CombinationMethod.SEQUENTIAL,startTime = stime)\n",
    "df = next(comb2)[items]\n",
    "for d in comb2:\n",
    "    df = pd.concat([df,d[items]])\n",
    "\n",
    "print(f'{len(df)} features')\n",
    "stats2 = df.describe()\n",
    "sample2 = df.sample(n=5)"
   ]
  },
  {
   "cell_type": "code",
   "execution_count": null,
   "metadata": {},
   "outputs": [],
   "source": [
    "sample2 = df.sample(n=5)"
   ]
  },
  {
   "cell_type": "code",
   "execution_count": null,
   "metadata": {},
   "outputs": [],
   "source": [
    "sample=pd.concat([sample1,sample2])\n",
    "sample.to_csv(\"../datasets/sample.csv\")"
   ]
  },
  {
   "cell_type": "code",
   "execution_count": 2,
   "metadata": {},
   "outputs": [],
   "source": [
    "comb1 = combineDatasets(usb1, usb2, method = CombinationMethod.SEQUENTIAL)\n",
    "comb2 = combineDatasets(UNSW1, UNSW2, method = CombinationMethod.SEQUENTIAL)\n",
    "comb = combineDatasets(comb1, comb2, method = CombinationMethod.SEQUENTIAL)"
   ]
  },
  {
   "cell_type": "code",
   "execution_count": 3,
   "metadata": {},
   "outputs": [
    {
     "name": "stdout",
     "output_type": "stream",
     "text": [
      "Combining Combined\n",
      "Combining USB-IDS Slowhttptest\n",
      "Reached end of USB-IDS Slowhttptest with 6737 flows, switching to USB-IDS Regular\n"
     ]
    }
   ],
   "source": [
    "temp = next(comb)"
   ]
  }
 ],
 "metadata": {
  "kernelspec": {
   "display_name": "Python 3.8.10 ('venv': venv)",
   "language": "python",
   "name": "python3"
  },
  "language_info": {
   "codemirror_mode": {
    "name": "ipython",
    "version": 3
   },
   "file_extension": ".py",
   "mimetype": "text/x-python",
   "name": "python",
   "nbconvert_exporter": "python",
   "pygments_lexer": "ipython3",
   "version": "3.8.10"
  },
  "orig_nbformat": 4,
  "vscode": {
   "interpreter": {
    "hash": "f762d64980dfdcad5a1c3bae0f4ed5c8a9be685d2905460a50a42f21ac9f31ea"
   }
  }
 },
 "nbformat": 4,
 "nbformat_minor": 2
}
