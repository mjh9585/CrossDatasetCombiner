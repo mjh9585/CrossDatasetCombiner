{
 "cells": [
  {
   "cell_type": "code",
   "execution_count": 1,
   "metadata": {},
   "outputs": [
    {
     "name": "stdout",
     "output_type": "stream",
     "text": [
      "loading Datasets.USBIDS_2021 from \"../datasets/USBIDS21/Slowhttptest-NoDefense.csv\" with dataset name: USB-IDS Slowhttptest\n",
      "loading Datasets.USBIDS_2021 from \"../datasets/USBIDS21/REGULAR.csv\" with dataset name: USB-IDS Regular\n",
      "loading Datasets.UNSW_NB15_2015 from \"../datasets/UNSW-NB15/UNSW-NB15_1.csv\" with dataset name: UNSW-NB15_1\n",
      "loading Datasets.UNSW_NB15_2015 from \"../datasets/UNSW-NB15/UNSW-NB15_2.csv\" with dataset name: UNSW-NB15_2\n"
     ]
    }
   ],
   "source": [
    "from DatasetTools import loadDataset,Datasets,findCommonFeatures,combineDatasets\n",
    "from Loader.CombinedDataset import CombinationMethod\n",
    "import pandas as pd\n",
    "import numpy as np\n",
    "import os\n",
    "cwd = os.getcwd()\n",
    "\n",
    "calcFeatures = True\n",
    "usb1 = loadDataset(Datasets.USBIDS_2021,'../datasets/USBIDS21/Slowhttptest-NoDefense.csv',\"USB-IDS Slowhttptest\",calcFeatures=calcFeatures)\n",
    "usb2 = loadDataset(Datasets.USBIDS_2021,'../datasets/USBIDS21/REGULAR.csv',\"USB-IDS Regular\",calcFeatures=calcFeatures)\n",
    "\n",
    "UNSW1 = loadDataset(Datasets.UNSW_NB15_2015,\"../datasets/UNSW-NB15/UNSW-NB15_1.csv\",\"UNSW-NB15_1\",calcFeatures=calcFeatures)\n",
    "UNSW2 = loadDataset(Datasets.UNSW_NB15_2015,\"../datasets/UNSW-NB15/UNSW-NB15_2.csv\",\"UNSW-NB15_2\",calcFeatures=calcFeatures)"
   ]
  },
  {
   "cell_type": "code",
   "execution_count": null,
   "metadata": {},
   "outputs": [],
   "source": [
    "print(\"USB1\")\n",
    "tmp1 = next(usb1)\n",
    "print(\"USB2\")\n",
    "tmp2 = next(usb2)\n",
    "print(\"UNSW1\")\n",
    "tmp3 = next(UNSW1)\n",
    "print(\"UNSW2\")\n",
    "tmp4 = next(UNSW2)"
   ]
  },
  {
   "cell_type": "code",
   "execution_count": null,
   "metadata": {},
   "outputs": [],
   "source": [
    "print(tmp1.Protocol.unique())\n",
    "print(tmp2.Protocol.unique())\n",
    "print(tmp3.Protocol.unique())\n",
    "print(tmp4.Protocol.unique())"
   ]
  },
  {
   "cell_type": "code",
   "execution_count": null,
   "metadata": {},
   "outputs": [],
   "source": [
    "import itertools\n",
    "\n",
    "proto = set()\n",
    "for t in itertools.chain(UNSW1,UNSW2):\n",
    "    for p in t.Protocol.unique():\n",
    "        proto.add(p)\n",
    "print(proto)"
   ]
  },
  {
   "cell_type": "code",
   "execution_count": null,
   "metadata": {},
   "outputs": [],
   "source": [
    "items = findCommonFeatures(usb1,usb2,UNSW1,UNSW2)\n",
    "usbItems = usb1.getFeatures()\n",
    "unswItems = UNSW1.getFeatures()\n",
    "missingUSB = [v for v in usbItems if v not in items]\n",
    "missingUNSW = [v for v in unswItems if v not in items]\n",
    "\n",
    "print(f\"Combined has {len(items)} features\")\n",
    "print(f\"USBIDS has {len(usbItems)} features, {len(missingUSB)} are missing\")\n",
    "print(f\"UNSWNB15 has {len(unswItems)} features, {len(missingUNSW)} are missing\")\n"
   ]
  },
  {
   "cell_type": "code",
   "execution_count": 2,
   "metadata": {},
   "outputs": [],
   "source": [
    "comb = combineDatasets(usb1, usb2, UNSW1,UNSW2, method = CombinationMethod.SEQUENTIAL)\n",
    "count = 0"
   ]
  },
  {
   "cell_type": "code",
   "execution_count": 4,
   "metadata": {},
   "outputs": [
    {
     "name": "stdout",
     "output_type": "stream",
     "text": [
      "Combining USB-IDS Regular\n"
     ]
    }
   ],
   "source": [
    "#first boundary\n",
    "temp = next(comb)\n",
    "count=1"
   ]
  },
  {
   "cell_type": "code",
   "execution_count": 5,
   "metadata": {},
   "outputs": [
    {
     "name": "stdout",
     "output_type": "stream",
     "text": [
      "Combining USB-IDS Regular\n",
      "Combining USB-IDS Regular\n",
      "Reached end of USB-IDS Regular with 12658 flows, switching to UNSW-NB15_1\n"
     ]
    },
    {
     "name": "stderr",
     "output_type": "stream",
     "text": [
      "/home/matthew/2022SummerResearch/DatasetProcessor/Loader/Dataset.py:136: DtypeWarning: Columns (1) have mixed types. Specify dtype option on import or set low_memory=False.\n",
      "  df = self.reader.get_chunk(rows)\n"
     ]
    },
    {
     "name": "stdout",
     "output_type": "stream",
     "text": [
      "Combining UNSW-NB15_1\n"
     ]
    },
    {
     "name": "stderr",
     "output_type": "stream",
     "text": [
      "/home/matthew/2022SummerResearch/DatasetProcessor/Loader/Dataset.py:136: DtypeWarning: Columns (1,3) have mixed types. Specify dtype option on import or set low_memory=False.\n",
      "  df = self.reader.get_chunk(rows)\n"
     ]
    }
   ],
   "source": [
    "#second boundary\n",
    "for i in range(3):\n",
    "    temp = next(comb)\n",
    "    count+=1"
   ]
  },
  {
   "cell_type": "code",
   "execution_count": null,
   "metadata": {},
   "outputs": [],
   "source": [
    "np.all(temp[\"Dataset\"] == \"USB-IDS Regular\")"
   ]
  },
  {
   "cell_type": "code",
   "execution_count": null,
   "metadata": {},
   "outputs": [],
   "source": [
    "print(items)"
   ]
  },
  {
   "cell_type": "code",
   "execution_count": null,
   "metadata": {},
   "outputs": [],
   "source": [
    "#! OLD\n",
    "comb1 = combineDatasets(usb1, usb2, method = CombinationMethod.SEQUENTIAL)\n",
    "items.append(\"Dataset\")\n",
    "df = next(comb1)[items]\n",
    "for d in comb1:\n",
    "    df = pd.concat([df,d[items]])\n",
    "\n",
    "print(f'{len(df)} features')\n",
    "stats1 = df.describe()\n",
    "sample1 = df.sample(n=5)"
   ]
  },
  {
   "cell_type": "code",
   "execution_count": null,
   "metadata": {},
   "outputs": [],
   "source": [
    "stime = comb1.datasetTimes[-1][1]"
   ]
  },
  {
   "cell_type": "code",
   "execution_count": null,
   "metadata": {},
   "outputs": [],
   "source": [
    "#! OLD\n",
    "comb2 = combineDatasets(UNSW1, UNSW2, method = CombinationMethod.SEQUENTIAL,startTime = stime)\n",
    "df = next(comb2)[items]\n",
    "for d in comb2:\n",
    "    df = pd.concat([df,d[items]])\n",
    "\n",
    "print(f'{len(df)} features')\n",
    "stats2 = df.describe()\n",
    "sample2 = df.sample(n=5)"
   ]
  },
  {
   "cell_type": "code",
   "execution_count": null,
   "metadata": {},
   "outputs": [],
   "source": [
    "sample2 = df.sample(n=5)"
   ]
  },
  {
   "cell_type": "code",
   "execution_count": null,
   "metadata": {},
   "outputs": [],
   "source": [
    "sample=pd.concat([sample1,sample2])\n",
    "sample.to_csv(\"../datasets/sample.csv\")"
   ]
  },
  {
   "cell_type": "code",
   "execution_count": 2,
   "metadata": {},
   "outputs": [],
   "source": [
    "comb1 = combineDatasets(usb1, usb2, method = CombinationMethod.SEQUENTIAL)\n",
    "comb2 = combineDatasets(UNSW1, UNSW2, method = CombinationMethod.SEQUENTIAL)\n",
    "comb = combineDatasets(comb1, comb2, method = CombinationMethod.SEQUENTIAL)"
   ]
  },
  {
   "cell_type": "code",
   "execution_count": 3,
   "metadata": {},
   "outputs": [
    {
     "name": "stdout",
     "output_type": "stream",
     "text": [
      "Combining Combined\n",
      "Combining USB-IDS Slowhttptest\n",
      "Reached end of USB-IDS Slowhttptest with 6737 flows, switching to USB-IDS Regular\n"
     ]
    }
   ],
   "source": [
    "temp = next(comb)"
   ]
  }
 ],
 "metadata": {
  "kernelspec": {
   "display_name": "Python 3.8.10 ('venv': venv)",
   "language": "python",
   "name": "python3"
  },
  "language_info": {
   "codemirror_mode": {
    "name": "ipython",
    "version": 3
   },
   "file_extension": ".py",
   "mimetype": "text/x-python",
   "name": "python",
   "nbconvert_exporter": "python",
   "pygments_lexer": "ipython3",
   "version": "3.8.10"
  },
  "orig_nbformat": 4,
  "vscode": {
   "interpreter": {
    "hash": "f762d64980dfdcad5a1c3bae0f4ed5c8a9be685d2905460a50a42f21ac9f31ea"
   }
  }
 },
 "nbformat": 4,
 "nbformat_minor": 2
}
