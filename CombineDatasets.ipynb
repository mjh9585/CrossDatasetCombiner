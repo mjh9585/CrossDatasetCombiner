{
 "cells": [
  {
   "cell_type": "markdown",
   "metadata": {},
   "source": [
    "## Dataset Combination\n",
    "---------------\n",
    "This notebook provides the framework for combining the common features of multiple datasets "
   ]
  },
  {
   "cell_type": "code",
   "execution_count": 1,
   "metadata": {},
   "outputs": [],
   "source": [
    "#imports\n",
    "from DatasetTools import loadDataset,Datasets,findCommonFeatures,combineDatasets,saveDataset\n",
    "from Loader.CombinedDataset import CombinationMethod\n",
    "import pandas as pd"
   ]
  },
  {
   "cell_type": "markdown",
   "metadata": {},
   "source": [
    "### Global variables"
   ]
  },
  {
   "cell_type": "code",
   "execution_count": 2,
   "metadata": {},
   "outputs": [],
   "source": [
    "calcFeatures = True\n",
    "outputPath = \"../datasets/Combined/sample.csv\""
   ]
  },
  {
   "cell_type": "markdown",
   "metadata": {},
   "source": [
    "### Loading datasets\n",
    "To load a dataset, simply call the *loadDataset* method from DatasetTools and specify which dataset is being loaded along with the path the the file. You can also provide a name for the dataset as a note on the combined."
   ]
  },
  {
   "cell_type": "code",
   "execution_count": 6,
   "metadata": {},
   "outputs": [
    {
     "name": "stdout",
     "output_type": "stream",
     "text": [
      "loading Datasets.USBIDS_2021 from \"../datasets/USBIDS21/Slowhttptest-NoDefense.csv\" with dataset name: USB-IDS Slowhttptest\n",
      "loading Datasets.USBIDS_2021 from \"../datasets/USBIDS21/REGULAR.csv\" with dataset name: USB-IDS Regular\n",
      "loading Datasets.UNSW_NB15_2015 from \"../datasets/UNSW-NB15/UNSW-NB15_1.csv\" with dataset name: UNSW-NB15_1\n",
      "loading Datasets.UNSW_NB15_2015 from \"../datasets/UNSW-NB15/UNSW-NB15_2.csv\" with dataset name: UNSW-NB15_2\n"
     ]
    }
   ],
   "source": [
    "\n",
    "usb1 = loadDataset(Datasets.USBIDS_2021,'../datasets/USBIDS21/Slowhttptest-NoDefense.csv',\"USB-IDS Slowhttptest\",calcFeatures=calcFeatures)\n",
    "usb2 = loadDataset(Datasets.USBIDS_2021,'../datasets/USBIDS21/REGULAR.csv',\"USB-IDS Regular\",calcFeatures=calcFeatures)\n",
    "\n",
    "UNSW1 = loadDataset(Datasets.UNSW_NB15_2015,\"../datasets/UNSW-NB15/UNSW-NB15_1.csv\",\"UNSW-NB15_1\",calcFeatures=calcFeatures)\n",
    "UNSW2 = loadDataset(Datasets.UNSW_NB15_2015,\"../datasets/UNSW-NB15/UNSW-NB15_2.csv\",\"UNSW-NB15_2\",calcFeatures=calcFeatures)"
   ]
  },
  {
   "cell_type": "markdown",
   "metadata": {},
   "source": [
    "Each data set can have additional preprocessors added to the processing chain at three different stages. The preprocessor will be passed a Pandas dataset chunk to process and should return the modified chunk when finished. An example of this can be found in *UNSWNB15.py*\n",
    "\n",
    "```python\n",
    "    #Adds a Preprocessor before performing unit conversion and column renaming\n",
    "    addPreConvertProcessor(self, preprocess)\n",
    "    #Adds a Preprocessor before performing additional feature calculation\n",
    "    addPreCalculateProcessor(self, preprocess)\n",
    "    #Adds a Preprocessor at the end of the processing chain before returning the loaded dataset\n",
    "    addPreprocessor(self, preprocess)\n",
    "```"
   ]
  },
  {
   "cell_type": "markdown",
   "metadata": {},
   "source": [
    "### Combining datasets\n",
    "There are two methods of combining datasets, sequentially and interlaced.\n",
    "- Sequentially: datasets are concatenated together in the order they are passed in.\n",
    "- Interlaced: datasets are mixed together based on the relative timestamp in each dataset.\n",
    "\n",
    "#### Simple combination\n",
    "When combining datasets, simply call `combineDataset` with all the datasets to combine and the method of combination. Below are two examples of combining different datasets together"
   ]
  },
  {
   "cell_type": "code",
   "execution_count": 7,
   "metadata": {},
   "outputs": [
    {
     "name": "stdout",
     "output_type": "stream",
     "text": [
      "Combined Dataset has 28 features: ['ID', 'Src IP', 'Src Port', 'Dst IP', 'Dst Port', 'Protocol', 'Timestamp', 'Flow Duration', 'Packet Length Mean', 'Fwd Packet Length Mean', 'Bwd Packet Length Mean', 'Flow Bytes/s', 'Fwd Flow Byte/s', 'Bwd Flow Byte/s', 'Flow Packets/s', 'Fwd Flow Packets/s', 'Bwd Flow Packets/s', 'Total Length of Packets', 'Total Length of Fwd Packets', 'Total Length of Bwd Packets', 'Total Packets', 'Total Fwd Packets', 'Total Bwd Packets', 'Flow IAT Mean', 'Fwd IAT Mean', 'Bwd IAT Mean', 'Down/Up Ratio', 'Label']\n",
      "USB-IDS Slowhttptest had 50 features, missing 22\n",
      "USB-IDS Regular had 50 features, missing 22\n",
      "UNSW-NB15_1 had 29 features, missing 1\n",
      "UNSW-NB15_2 had 29 features, missing 1\n"
     ]
    }
   ],
   "source": [
    "#combine Sequentially\n",
    "comb = combineDatasets(usb1, usb2, UNSW1, UNSW2, method = CombinationMethod.SEQUENTIAL)"
   ]
  },
  {
   "cell_type": "code",
   "execution_count": 4,
   "metadata": {},
   "outputs": [
    {
     "name": "stdout",
     "output_type": "stream",
     "text": [
      "Combined Dataset has 28 features: ['ID', 'Src IP', 'Src Port', 'Dst IP', 'Dst Port', 'Protocol', 'Timestamp', 'Flow Duration', 'Packet Length Mean', 'Fwd Packet Length Mean', 'Bwd Packet Length Mean', 'Flow Bytes/s', 'Fwd Flow Byte/s', 'Bwd Flow Byte/s', 'Flow Packets/s', 'Fwd Flow Packets/s', 'Bwd Flow Packets/s', 'Total Length of Packets', 'Total Length of Fwd Packets', 'Total Length of Bwd Packets', 'Total Packets', 'Total Fwd Packets', 'Total Bwd Packets', 'Flow IAT Mean', 'Fwd IAT Mean', 'Bwd IAT Mean', 'Down/Up Ratio', 'Label']\n",
      "USB-IDS Slowhttptest had 50 features, missing 22\n",
      "USB-IDS Regular had 50 features, missing 22\n",
      "UNSW-NB15_1 had 29 features, missing 1\n",
      "UNSW-NB15_2 had 29 features, missing 1\n"
     ]
    }
   ],
   "source": [
    "#combine Interlaced\n",
    "comb = combineDatasets(usb1, usb2, UNSW1, UNSW2, method = CombinationMethod.INTERLACE)\n",
    "comb.chunksize = 10**6 #recommended to increase the chunksize for interlaced datasets to prevent artifacts between chunks"
   ]
  },
  {
   "cell_type": "markdown",
   "metadata": {},
   "source": [
    "#### Multiple combinations\n",
    "When combining multiple datasets, there might be multiple methods that need to be used. For example, concatenating multiple files from the same dataset and interlacing it with another dataset. "
   ]
  },
  {
   "cell_type": "code",
   "execution_count": 4,
   "metadata": {},
   "outputs": [
    {
     "name": "stdout",
     "output_type": "stream",
     "text": [
      "Combined Dataset has 49 features: ['ID', 'Src IP', 'Src Port', 'Dst IP', 'Dst Port', 'Protocol', 'Timestamp', 'Flow Duration', 'Packet Length Min', 'Packet Length Max', 'Packet Length Mean', 'Packet Length Std', 'Packet Length Variance', 'Fwd Packet Length Min', 'Fwd Packet Length Max', 'Fwd Packet Length Mean', 'Fwd Packet Length Std', 'Bwd Packet Length Min', 'Bwd Packet Length Max', 'Bwd Packet Length Mean', 'Bwd Packet Length Std', 'Flow Bytes/s', 'Fwd Flow Byte/s', 'Bwd Flow Byte/s', 'Flow Packets/s', 'Fwd Flow Packets/s', 'Bwd Flow Packets/s', 'Total Length of Packets', 'Total Length of Fwd Packets', 'Total Length of Bwd Packets', 'Total Packets', 'Total Fwd Packets', 'Total Bwd Packets', 'Flow IAT Mean', 'Flow IAT Std', 'Flow IAT Max', 'Flow IAT Min', 'Fwd IAT Min', 'Fwd IAT Max', 'Fwd IAT Mean', 'Fwd IAT Std', 'Fwd IAT Total', 'Bwd IAT Min', 'Bwd IAT Max', 'Bwd IAT Mean', 'Bwd IAT Std', 'Bwd IAT Total', 'Down/Up Ratio', 'Label']\n",
      "USB-IDS Slowhttptest had 50 features, missing 1\n",
      "USB-IDS Regular had 50 features, missing 1\n",
      "Combined Dataset has 28 features: ['ID', 'Src IP', 'Src Port', 'Dst IP', 'Dst Port', 'Protocol', 'Timestamp', 'Flow Duration', 'Packet Length Mean', 'Fwd Packet Length Mean', 'Bwd Packet Length Mean', 'Flow Bytes/s', 'Fwd Flow Byte/s', 'Bwd Flow Byte/s', 'Flow Packets/s', 'Fwd Flow Packets/s', 'Bwd Flow Packets/s', 'Total Length of Packets', 'Total Length of Fwd Packets', 'Total Length of Bwd Packets', 'Total Packets', 'Total Fwd Packets', 'Total Bwd Packets', 'Flow IAT Mean', 'Fwd IAT Mean', 'Bwd IAT Mean', 'Down/Up Ratio', 'Label']\n",
      "UNSW-NB15_1 had 29 features, missing 1\n",
      "UNSW-NB15_2 had 29 features, missing 1\n",
      "Combined Dataset has 29 features: ['ID', 'Src IP', 'Src Port', 'Dst IP', 'Dst Port', 'Protocol', 'Timestamp', 'Flow Duration', 'Packet Length Mean', 'Fwd Packet Length Mean', 'Bwd Packet Length Mean', 'Flow Bytes/s', 'Fwd Flow Byte/s', 'Bwd Flow Byte/s', 'Flow Packets/s', 'Fwd Flow Packets/s', 'Bwd Flow Packets/s', 'Total Length of Packets', 'Total Length of Fwd Packets', 'Total Length of Bwd Packets', 'Total Packets', 'Total Fwd Packets', 'Total Bwd Packets', 'Flow IAT Mean', 'Fwd IAT Mean', 'Bwd IAT Mean', 'Down/Up Ratio', 'Label', 'Dataset']\n",
      "UNSW_Combined had 30 features, missing 1\n",
      "USB_Combined had 51 features, missing 22\n"
     ]
    }
   ],
   "source": [
    "combUSB = combineDatasets(usb1, usb2, method = CombinationMethod.SEQUENTIAL, name = \"USB_Combined\")\n",
    "combUNSW = combineDatasets(UNSW1, UNSW2, method = CombinationMethod.SEQUENTIAL, name = \"UNSW_Combined\")\n",
    "comb = combineDatasets(combUNSW, combUSB, method = CombinationMethod.INTERLACE)"
   ]
  },
  {
   "cell_type": "markdown",
   "metadata": {},
   "source": [
    "### Using the combined dataset\n",
    "Once a dataset is loaded or a combined dataset is created, the data is then loaded in chunks to minimize ram usage when combining several large datasets. The default chunk size for each dataset is 100000. This can be changed by setting `chunksize` equal to the new size of the chunk for any dataset. "
   ]
  },
  {
   "cell_type": "code",
   "execution_count": null,
   "metadata": {},
   "outputs": [],
   "source": [
    "#get the next chunk of the the combined dataset\n",
    "temp = next(comb)"
   ]
  },
  {
   "cell_type": "code",
   "execution_count": null,
   "metadata": {},
   "outputs": [],
   "source": [
    "#get all the chunks and do something with them\n",
    "for ds in comb:\n",
    "    # do something with each chunk\n",
    "    pass"
   ]
  },
  {
   "cell_type": "markdown",
   "metadata": {},
   "source": [
    "### Saving the dataset\n",
    "Saving the combined dataset is a simple as calling `saveDataset` with the path to save the result to."
   ]
  },
  {
   "cell_type": "code",
   "execution_count": 8,
   "metadata": {},
   "outputs": [
    {
     "name": "stdout",
     "output_type": "stream",
     "text": [
      "Saving Combined with 29 features: ['ID', 'Src IP', 'Src Port', 'Dst IP', 'Dst Port', 'Protocol', 'Timestamp', 'Flow Duration', 'Packet Length Mean', 'Fwd Packet Length Mean', 'Bwd Packet Length Mean', 'Flow Bytes/s', 'Fwd Flow Byte/s', 'Bwd Flow Byte/s', 'Flow Packets/s', 'Fwd Flow Packets/s', 'Bwd Flow Packets/s', 'Total Length of Packets', 'Total Length of Fwd Packets', 'Total Length of Bwd Packets', 'Total Packets', 'Total Fwd Packets', 'Total Bwd Packets', 'Flow IAT Mean', 'Fwd IAT Mean', 'Bwd IAT Mean', 'Down/Up Ratio', 'Label', 'Dataset']\n",
      "Reached end of USB-IDS Slowhttptest with 6737 flows, switching to USB-IDS Regular\n",
      "Reached end of USB-IDS Regular with 12658 flows, switching to UNSW-NB15_1\n"
     ]
    },
    {
     "name": "stderr",
     "output_type": "stream",
     "text": [
      "/home/matthew/2022SummerResearch/DatasetProcessor/Loader/Dataset.py:146: DtypeWarning: Columns (1) have mixed types. Specify dtype option on import or set low_memory=False.\n",
      "  df = self.reader.get_chunk(rows)\n",
      "/home/matthew/2022SummerResearch/DatasetProcessor/Loader/Dataset.py:146: DtypeWarning: Columns (1,3) have mixed types. Specify dtype option on import or set low_memory=False.\n",
      "  df = self.reader.get_chunk(rows)\n"
     ]
    },
    {
     "name": "stdout",
     "output_type": "stream",
     "text": [
      "Reached end of UNSW-NB15_1 with 12659 flows, switching to UNSW-NB15_2\n"
     ]
    },
    {
     "name": "stderr",
     "output_type": "stream",
     "text": [
      "/home/matthew/2022SummerResearch/DatasetProcessor/Loader/Dataset.py:146: DtypeWarning: Columns (47) have mixed types. Specify dtype option on import or set low_memory=False.\n",
      "  df = self.reader.get_chunk(rows)\n",
      "/home/matthew/2022SummerResearch/DatasetProcessor/Loader/Dataset.py:146: DtypeWarning: Columns (3) have mixed types. Specify dtype option on import or set low_memory=False.\n",
      "  df = self.reader.get_chunk(rows)\n",
      "/home/matthew/2022SummerResearch/DatasetProcessor/Loader/Dataset.py:146: DtypeWarning: Columns (3) have mixed types. Specify dtype option on import or set low_memory=False.\n",
      "  df = self.reader.get_chunk(rows)\n"
     ]
    },
    {
     "name": "stdout",
     "output_type": "stream",
     "text": [
      "Reached end of UNSW-NB15_2 with 12660 flows, end of combined dataset\n",
      "Saved 1712660 flows!\n"
     ]
    }
   ],
   "source": [
    "saveDataset(\"Sample/sample1.csv\", comb, overwriteExisting=True)"
   ]
  },
  {
   "cell_type": "code",
   "execution_count": 16,
   "metadata": {},
   "outputs": [],
   "source": [
    "comb.reset()"
   ]
  },
  {
   "cell_type": "markdown",
   "metadata": {},
   "source": [
    "#### Saving datasets with common features\n",
    "Existing datasets can have have their common features extracted and saved for comparing results between datasets without having to combine datasets"
   ]
  },
  {
   "cell_type": "code",
   "execution_count": 10,
   "metadata": {},
   "outputs": [
    {
     "name": "stdout",
     "output_type": "stream",
     "text": [
      "Saving USB-IDS Slowhttptest with 28 features: ['ID', 'Src IP', 'Src Port', 'Dst IP', 'Dst Port', 'Protocol', 'Timestamp', 'Flow Duration', 'Packet Length Mean', 'Fwd Packet Length Mean', 'Bwd Packet Length Mean', 'Flow Bytes/s', 'Fwd Flow Byte/s', 'Bwd Flow Byte/s', 'Flow Packets/s', 'Fwd Flow Packets/s', 'Bwd Flow Packets/s', 'Total Length of Packets', 'Total Length of Fwd Packets', 'Total Length of Bwd Packets', 'Total Packets', 'Total Fwd Packets', 'Total Bwd Packets', 'Flow IAT Mean', 'Fwd IAT Mean', 'Bwd IAT Mean', 'Down/Up Ratio', 'Label']\n",
      "Saved 6737 flows!\n",
      "Saving USB-IDS Regular with 28 features: ['ID', 'Src IP', 'Src Port', 'Dst IP', 'Dst Port', 'Protocol', 'Timestamp', 'Flow Duration', 'Packet Length Mean', 'Fwd Packet Length Mean', 'Bwd Packet Length Mean', 'Flow Bytes/s', 'Fwd Flow Byte/s', 'Bwd Flow Byte/s', 'Flow Packets/s', 'Fwd Flow Packets/s', 'Bwd Flow Packets/s', 'Total Length of Packets', 'Total Length of Fwd Packets', 'Total Length of Bwd Packets', 'Total Packets', 'Total Fwd Packets', 'Total Bwd Packets', 'Flow IAT Mean', 'Fwd IAT Mean', 'Bwd IAT Mean', 'Down/Up Ratio', 'Label']\n",
      "Saved 305921 flows!\n",
      "Saving UNSW-NB15_1 with 28 features: ['ID', 'Src IP', 'Src Port', 'Dst IP', 'Dst Port', 'Protocol', 'Timestamp', 'Flow Duration', 'Packet Length Mean', 'Fwd Packet Length Mean', 'Bwd Packet Length Mean', 'Flow Bytes/s', 'Fwd Flow Byte/s', 'Bwd Flow Byte/s', 'Flow Packets/s', 'Fwd Flow Packets/s', 'Bwd Flow Packets/s', 'Total Length of Packets', 'Total Length of Fwd Packets', 'Total Length of Bwd Packets', 'Total Packets', 'Total Fwd Packets', 'Total Bwd Packets', 'Flow IAT Mean', 'Fwd IAT Mean', 'Bwd IAT Mean', 'Down/Up Ratio', 'Label']\n"
     ]
    },
    {
     "name": "stderr",
     "output_type": "stream",
     "text": [
      "/home/matthew/2022SummerResearch/DatasetProcessor/Loader/Dataset.py:146: DtypeWarning: Columns (1,3) have mixed types. Specify dtype option on import or set low_memory=False.\n",
      "  df = self.reader.get_chunk(rows)\n",
      "/home/matthew/2022SummerResearch/DatasetProcessor/Loader/Dataset.py:146: DtypeWarning: Columns (1,3,47) have mixed types. Specify dtype option on import or set low_memory=False.\n",
      "  df = self.reader.get_chunk(rows)\n"
     ]
    },
    {
     "name": "stdout",
     "output_type": "stream",
     "text": [
      "Saved 700001 flows!\n",
      "Saving UNSW-NB15_2 with 28 features: ['ID', 'Src IP', 'Src Port', 'Dst IP', 'Dst Port', 'Protocol', 'Timestamp', 'Flow Duration', 'Packet Length Mean', 'Fwd Packet Length Mean', 'Bwd Packet Length Mean', 'Flow Bytes/s', 'Fwd Flow Byte/s', 'Bwd Flow Byte/s', 'Flow Packets/s', 'Fwd Flow Packets/s', 'Bwd Flow Packets/s', 'Total Length of Packets', 'Total Length of Fwd Packets', 'Total Length of Bwd Packets', 'Total Packets', 'Total Fwd Packets', 'Total Bwd Packets', 'Flow IAT Mean', 'Fwd IAT Mean', 'Bwd IAT Mean', 'Down/Up Ratio', 'Label']\n"
     ]
    },
    {
     "name": "stderr",
     "output_type": "stream",
     "text": [
      "/home/matthew/2022SummerResearch/DatasetProcessor/Loader/Dataset.py:146: DtypeWarning: Columns (3,47) have mixed types. Specify dtype option on import or set low_memory=False.\n",
      "  df = self.reader.get_chunk(rows)\n",
      "/home/matthew/2022SummerResearch/DatasetProcessor/Loader/Dataset.py:146: DtypeWarning: Columns (3) have mixed types. Specify dtype option on import or set low_memory=False.\n",
      "  df = self.reader.get_chunk(rows)\n",
      "/home/matthew/2022SummerResearch/DatasetProcessor/Loader/Dataset.py:146: DtypeWarning: Columns (3) have mixed types. Specify dtype option on import or set low_memory=False.\n",
      "  df = self.reader.get_chunk(rows)\n",
      "/home/matthew/2022SummerResearch/DatasetProcessor/Loader/Dataset.py:146: DtypeWarning: Columns (3) have mixed types. Specify dtype option on import or set low_memory=False.\n",
      "  df = self.reader.get_chunk(rows)\n"
     ]
    },
    {
     "name": "stdout",
     "output_type": "stream",
     "text": [
      "Saved 700001 flows!\n"
     ]
    }
   ],
   "source": [
    "datasets = [usb1,usb2,UNSW1,UNSW2]\n",
    "features = findCommonFeatures(usb1,usb2,UNSW1,UNSW2)\n",
    "for ds in datasets:\n",
    "    ds.reset() # reset the dataset back to the beginning for a potential second read\n",
    "    saveDataset(f'Sample/separate/{ds.name}.csv', ds, features=features)"
   ]
  }
 ],
 "metadata": {
  "kernelspec": {
   "display_name": "Python 3.8.10 ('venv': venv)",
   "language": "python",
   "name": "python3"
  },
  "language_info": {
   "codemirror_mode": {
    "name": "ipython",
    "version": 3
   },
   "file_extension": ".py",
   "mimetype": "text/x-python",
   "name": "python",
   "nbconvert_exporter": "python",
   "pygments_lexer": "ipython3",
   "version": "3.8.10"
  },
  "orig_nbformat": 4,
  "vscode": {
   "interpreter": {
    "hash": "f762d64980dfdcad5a1c3bae0f4ed5c8a9be685d2905460a50a42f21ac9f31ea"
   }
  }
 },
 "nbformat": 4,
 "nbformat_minor": 2
}
